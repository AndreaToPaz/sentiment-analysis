{
  "cells": [
    {
      "cell_type": "markdown",
      "metadata": {
        "id": "view-in-github",
        "colab_type": "text"
      },
      "source": [
        "<a href=\"https://colab.research.google.com/github/AndreaToPaz/sentiment-analysis/blob/main/Tutorial.ipynb\" target=\"_parent\"><img src=\"https://colab.research.google.com/assets/colab-badge.svg\" alt=\"Open In Colab\"/></a>"
      ]
    },
    {
      "cell_type": "markdown",
      "metadata": {
        "id": "t6bHEyDdY01x"
      },
      "source": [
        "# Análisis de sentimientos con BERT\n",
        "En este cuaderno, realizaremos las siguientes actividades\n",
        "1.   Cargar un conjunto de datos\n",
        "2.   Pre procesaer el conjunto de datos, previamente cargado\n",
        "1.   Cargar el modelo BERT que se encuentra disponible en TensorFlow Hub\n",
        "2.   Construir un modelo personalizado, utilizando BERT\n",
        "1.   Entrenar el modelo creado\n",
        "2.   Realizar una evalución en el modelo creado\n",
        "\n",
        "\n",
        "\n",
        "\n",
        "\n",
        "\n",
        "\n",
        "\n",
        "\n"
      ]
    },
    {
      "cell_type": "markdown",
      "metadata": {
        "id": "fWU0nnDua32r"
      },
      "source": [
        "Cargamos las dependencias a utilizar"
      ]
    },
    {
      "cell_type": "code",
      "execution_count": null,
      "metadata": {
        "colab": {
          "base_uri": "https://localhost:8080/"
        },
        "id": "KtzLhlddEG5q",
        "outputId": "27703082-09a9-4c52-fd49-fbd79cd6513c"
      },
      "outputs": [
        {
          "name": "stdout",
          "output_type": "stream",
          "text": [
            "Looking in indexes: https://pypi.org/simple, https://us-python.pkg.dev/colab-wheels/public/simple/\n",
            "Requirement already satisfied: clean_text in /usr/local/lib/python3.7/dist-packages (0.6.0)\n",
            "Requirement already satisfied: ftfy<7.0,>=6.0 in /usr/local/lib/python3.7/dist-packages (from clean_text) (6.1.1)\n",
            "Requirement already satisfied: emoji<2.0.0,>=1.0.0 in /usr/local/lib/python3.7/dist-packages (from clean_text) (1.7.0)\n",
            "Requirement already satisfied: wcwidth>=0.2.5 in /usr/local/lib/python3.7/dist-packages (from ftfy<7.0,>=6.0->clean_text) (0.2.5)\n"
          ]
        }
      ],
      "source": [
        "# A dependency of the preprocessing for BERT inputs\n",
        "!pip install -q -U tensorflow-text\n",
        "!pip install clean_text\n",
        "!pip install -q tf-models-official"
      ]
    },
    {
      "cell_type": "code",
      "execution_count": null,
      "metadata": {
        "colab": {
          "base_uri": "https://localhost:8080/"
        },
        "id": "0fw1ykZebP1A",
        "outputId": "ad8563d9-ade5-4e9f-80a1-302d2a332b1c"
      },
      "outputs": [
        {
          "name": "stdout",
          "output_type": "stream",
          "text": [
            "Drive already mounted at /content/drive; to attempt to forcibly remount, call drive.mount(\"/content/drive\", force_remount=True).\n"
          ]
        }
      ],
      "source": [
        "#TensorFlow\n",
        "from official.nlp import optimization  # to create AdamW optimizer\n",
        "import tensorflow as tf\n",
        "import tensorflow_hub as hub\n",
        "import tensorflow_text as text\n",
        "from tensorflow.python import metrics\n",
        "\n",
        "#scikit-learn\n",
        "from sklearn.model_selection import train_test_split\n",
        "from sklearn.preprocessing import LabelEncoder\n",
        "from sklearn.metrics import classification_report\n",
        "\n",
        "#Pypi \n",
        "from cleantext import clean\n",
        "import matplotlib.pyplot as plt\n",
        "import pandas as pd\n",
        "import numpy as np\n",
        "import re\n",
        "\n",
        "#Google Colab\n",
        "from google.colab import drive  #Permite acceder a los datos en google drive, AUTENTIFICACIÓN ES NECESARIA\n",
        "drive.mount('/content/drive')\n",
        "tf.get_logger().setLevel('ERROR')"
      ]
    },
    {
      "cell_type": "markdown",
      "metadata": {
        "id": "wsISPZYBa96v"
      },
      "source": [
        "Leemos el conjunto de datos que agregarmos a nuestro Drive\n"
      ]
    },
    {
      "cell_type": "code",
      "execution_count": null,
      "metadata": {
        "colab": {
          "base_uri": "https://localhost:8080/"
        },
        "id": "UDZvjlAb1cD1",
        "outputId": "3c80dd2f-9fba-40ee-aff3-b7cb16a2243b"
      },
      "outputs": [
        {
          "name": "stdout",
          "output_type": "stream",
          "text": [
            "Drive already mounted at /content/drive; to attempt to forcibly remount, call drive.mount(\"/content/drive\", force_remount=True).\n"
          ]
        }
      ],
      "source": [
        "from google.colab import drive\n",
        "drive.mount('/content/drive')"
      ]
    },
    {
      "cell_type": "code",
      "execution_count": null,
      "metadata": {
        "colab": {
          "base_uri": "https://localhost:8080/"
        },
        "id": "IeqjTfFqeUz_",
        "outputId": "7f75b4ca-d7f3-4b95-915b-2b28c9cf6bf5"
      },
      "outputs": [
        {
          "name": "stdout",
          "output_type": "stream",
          "text": [
            "        id                                              tweet     label \n",
            "0        1  El Atlético resignado a perder HASHTAG 😔  http...  tristeza \n",
            "1        2  Leer proporciona una mejor visión del mundo 🤓 ...   alegria \n",
            "2        3  Amo a Arya Stark por encima de todas las cosas...   alegria \n",
            "3        4  Gracias HASHTAG es increíble que una niña logr...     otros \n",
            "4        5  Solo siento que hayamos perdido 24 escaños de ...  tristeza \n",
            "...    ...                                                ...        ...\n",
            "5881  5882  Pequeños gestos que puedes hacer por el medio ...     otros \n",
            "5882  5883  ¿Sabías que de las dos coronaciones que se cel...     otros \n",
            "5883  5884  Mientras reflexionamos sobre lo duro que es es...       ira \n",
            "5884  5885  La fachada de la catedral de Notre Dame fue “s...  tristeza \n",
            "5885  5886  Estaba sufriendo el Barsa pero si tienes a Mes...   alegria \n",
            "\n",
            "[5886 rows x 3 columns]\n",
            "                                                  tweet     label \n",
            "0     El Atlético resignado a perder HASHTAG 😔  http...  tristeza \n",
            "1     Leer proporciona una mejor visión del mundo 🤓 ...   alegria \n",
            "2     Amo a Arya Stark por encima de todas las cosas...   alegria \n",
            "3     Gracias HASHTAG es increíble que una niña logr...     otros \n",
            "4     Solo siento que hayamos perdido 24 escaños de ...  tristeza \n",
            "...                                                 ...        ...\n",
            "5881  Pequeños gestos que puedes hacer por el medio ...     otros \n",
            "5882  ¿Sabías que de las dos coronaciones que se cel...     otros \n",
            "5883  Mientras reflexionamos sobre lo duro que es es...       ira \n",
            "5884  La fachada de la catedral de Notre Dame fue “s...  tristeza \n",
            "5885  Estaba sufriendo el Barsa pero si tienes a Mes...   alegria \n",
            "\n",
            "[5886 rows x 2 columns]\n"
          ]
        }
      ],
      "source": [
        "df = pd.read_csv('/data.tsv', sep='\\t')\n",
        "print(df)\n",
        "df = df.drop('id', axis=1)\n",
        "print(df)"
      ]
    },
    {
      "cell_type": "markdown",
      "metadata": {
        "id": "lUwgUbMYBTeW"
      },
      "source": [
        "Observamos la cantidad de datos por categoria"
      ]
    },
    {
      "cell_type": "code",
      "execution_count": null,
      "metadata": {
        "colab": {
          "base_uri": "https://localhost:8080/",
          "height": 553
        },
        "id": "SGa2dd1pnhGe",
        "outputId": "f09c23f6-360a-4c53-9a96-f8a9f9d66a1c"
      },
      "outputs": [
        {
          "data": {
            "image/png": "[encoded data removed]",
            "text/plain": [
              "<Figure size 648x648 with 1 Axes>"
            ]
          },
          "metadata": {},
          "output_type": "display_data"
        }
      ],
      "source": [
        "comment_target = 'tweet'\n",
        "target = 'label '\n",
        "num_classes = len(df[target].value_counts())\n",
        "\n",
        "colors = plt.cm.Dark2(np.linspace(0, 1, num_classes))\n",
        "iter_color = iter(colors)\n",
        "\n",
        "df[target].value_counts().plot.barh(title=\"Cantidad de comentarios\", \n",
        "                                                 ylabel=\"Sentimientos\",\n",
        "                                                 color=colors,\n",
        "                                                 figsize=(9,9))\n",
        "\n",
        "for i, v in enumerate(df[target].value_counts()):\n",
        "  c = next(iter_color)\n",
        "  plt.text(v, i,\n",
        "           \" \"+str(v)+\", \"+str(round(v*100/df.shape[0],2))+\"%\", \n",
        "           color=c, \n",
        "           va='center', \n",
        "           fontweight='bold')"
      ]
    },
    {
      "cell_type": "markdown",
      "metadata": {
        "id": "z6Bwj38RBcGy"
      },
      "source": [
        "Preprocesar los comentarios"
      ]
    },
    {
      "cell_type": "code",
      "execution_count": null,
      "metadata": {
        "id": "ISkPJPbmbWyX"
      },
      "outputs": [],
      "source": [
        "def clean_text(text) :\n",
        "    \"\"\"\n",
        "    Purpose: \n",
        "    Se eliminar:  URLs y  emojis.\n",
        "    \"\"\"\n",
        "    text = clean(text, no_emoji=True)\n",
        "    text = clean(text, no_urls=False, replace_with_url=\"<URL>\")\n",
        "    text = re.sub(\";\",' ', text)\n",
        "    text = re.sub(' +', ' ',text)\n",
        "    text = re.sub(\"\\r|\\n\",' ', text)\n",
        "    text = re.sub(r'@\\w+', '', text)\n",
        "    return text\n",
        "# end def"
      ]
    },
    {
      "cell_type": "code",
      "execution_count": null,
      "metadata": {
        "colab": {
          "base_uri": "https://localhost:8080/"
        },
        "id": "8is0um86BNde",
        "outputId": "0bb06114-25a3-42f4-acc6-96226076b491"
      },
      "outputs": [
        {
          "name": "stdout",
          "output_type": "stream",
          "text": [
            "                                                  tweet     label \n",
            "0     el atletico resignado a perder hashtag https:/...  tristeza \n",
            "1     leer proporciona una mejor vision del mundo fe...   alegria \n",
            "2     amo a arya stark por encima de todas las cosas...   alegria \n",
            "3     gracias hashtag es increible que una nina logr...     otros \n",
            "4     solo siento que hayamos perdido 24 escanos de ...  tristeza \n",
            "...                                                 ...        ...\n",
            "5881  pequenos gestos que puedes hacer por el medio ...     otros \n",
            "5882  sabias que de las dos coronaciones que se cele...     otros \n",
            "5883  mientras reflexionamos sobre lo duro que es es...       ira \n",
            "5884  la fachada de la catedral de notre dame fue \"s...  tristeza \n",
            "5885  estaba sufriendo el barsa pero si tienes a mes...   alegria \n",
            "\n",
            "[5886 rows x 2 columns]\n"
          ]
        }
      ],
      "source": [
        "df[comment_target ] = df[comment_target].apply(clean_text)\n",
        "print(df)"
      ]
    },
    {
      "cell_type": "markdown",
      "metadata": {
        "id": "VOFUbLsDDNiI"
      },
      "source": [
        "Se cambian las categorias por valores numericos, es decir, alegria, ira, tristeza y otros, se cambiara por valores numericos, cantidad - 1."
      ]
    },
    {
      "cell_type": "code",
      "execution_count": null,
      "metadata": {
        "id": "ayEuslein0iB"
      },
      "outputs": [],
      "source": [
        "LE = LabelEncoder()\n",
        "df[target]= LE.fit_transform(df[target].values)"
      ]
    },
    {
      "cell_type": "markdown",
      "metadata": {
        "id": "1l2AmE1JDk1k"
      },
      "source": [
        "Usamos la libreria scikit-learn para dividir los datos en entrenamiento y pruebas, en este caso la division es de 80% para entrenamiento y 20% para pruebas"
      ]
    },
    {
      "cell_type": "code",
      "execution_count": null,
      "metadata": {
        "id": "jrbcPl8in3Wy"
      },
      "outputs": [],
      "source": [
        "x_train, x_test, y_train, y_test = train_test_split(df[comment_target],df[target] , test_size=0.20)"
      ]
    },
    {
      "cell_type": "markdown",
      "metadata": {
        "id": "iPNmYIXFD8sT"
      },
      "source": [
        "Construir el modelo utilizando el modelo BERT que se encuentra en TensorFlow Hub"
      ]
    },
    {
      "cell_type": "code",
      "execution_count": null,
      "metadata": {
        "id": "iuHaUGcFn7Mt"
      },
      "outputs": [],
      "source": [
        "#Direcciones de los modelo en TensorFlow HUB\n",
        "model_name = 'https://tfhub.dev/tensorflow/bert_multi_cased_L-12_H-768_A-12/4'\n",
        "preprocessor_model_name = 'https://tfhub.dev/tensorflow/bert_multi_cased_preprocess/3'\n",
        "\n",
        "#Funcion para crear el modelo \n",
        "def build_classifier_model():\n",
        "    text_input = tf.keras.layers.Input(shape=(), dtype=tf.string, name='text')\n",
        "    preprocessing_layer = hub.KerasLayer(preprocessor_model_name, name='Prepocesamiento')\n",
        "\n",
        "    encoder_inputs = preprocessing_layer(text_input)\n",
        "    encoder = hub.KerasLayer(model_name, trainable=True, name='Modelo_BERT')\n",
        "\n",
        "    outputs = encoder(encoder_inputs)\n",
        "\n",
        "    net = outputs['pooled_output']\n",
        "    net = tf.keras.layers.Dropout(0.1, name='Capa_Dropout')(net)\n",
        "    net = tf.keras.layers.Dense(128, activation='relu', name='Capa_Densa')(net)\n",
        "    net =  tf.keras.layers.Dense(num_classes, activation='softmax', name='Clasificador')(net)\n",
        "\n",
        "    return tf.keras.Model(text_input, net)"
      ]
    },
    {
      "cell_type": "code",
      "execution_count": null,
      "metadata": {
        "id": "bgiW4ZWfobMh"
      },
      "outputs": [],
      "source": [
        "classifier_model = build_classifier_model()"
      ]
    },
    {
      "cell_type": "markdown",
      "metadata": {
        "id": "nzMSk4S1EjN3"
      },
      "source": [
        "Observamos la estructura del modelo creado"
      ]
    },
    {
      "cell_type": "code",
      "execution_count": null,
      "metadata": {
        "colab": {
          "base_uri": "https://localhost:8080/",
          "height": 564
        },
        "id": "C8NRnISJoRn-",
        "outputId": "ea111224-db92-45ac-a666-248fda9ecfb0"
      },
      "outputs": [
        {
          "data": {
            "image/png": "[encoded data removed]",
            "text/plain": [
              "<IPython.core.display.Image object>"
            ]
          },
          "execution_count": 22,
          "metadata": {},
          "output_type": "execute_result"
        }
      ],
      "source": [
        "tf.keras.utils.plot_model(classifier_model)"
      ]
    },
    {
      "cell_type": "markdown",
      "metadata": {
        "id": "p6ikTMN7EseV"
      },
      "source": [
        "Para compilar el modelo, es necesario seleccionar una funcion de perdida, asi como un optimizador y las metricas para la evaluacion de rendimimiento"
      ]
    },
    {
      "cell_type": "code",
      "execution_count": null,
      "metadata": {
        "id": "YDBRS0q4oeCH"
      },
      "outputs": [],
      "source": [
        "LOSS = tf.keras.losses.SparseCategoricalCrossentropy()\n",
        "METRICS = tf.keras.metrics.SparseCategoricalAccuracy()\n",
        "\n",
        "classifier_model.compile(\n",
        "    optimizer = tf.keras.optimizers.Adam(learning_rate=2e-5),\n",
        "    loss = LOSS,\n",
        "    metrics = METRICS\n",
        ")"
      ]
    },
    {
      "cell_type": "markdown",
      "metadata": {
        "id": "WyIrSeFkFDrG"
      },
      "source": [
        "Entrenemos el modelo"
      ]
    },
    {
      "cell_type": "code",
      "execution_count": null,
      "metadata": {
        "colab": {
          "background_save": true,
          "base_uri": "https://localhost:8080/"
        },
        "id": "tdeYdUe-oi0F",
        "outputId": "cd8d8e24-557a-467c-fa53-bbd5394d727a"
      },
      "outputs": [
        {
          "name": "stdout",
          "output_type": "stream",
          "text": [
            "Epoch 1/6\n",
            "295/295 [==============================] - 163s 500ms/step - loss: 0.9204 - sparse_categorical_accuracy: 0.6395 - val_loss: 0.8447 - val_sparse_categorical_accuracy: 0.6401\n",
            "Epoch 2/6\n",
            "295/295 [==============================] - 146s 496ms/step - loss: 0.6496 - sparse_categorical_accuracy: 0.7470 - val_loss: 0.7815 - val_sparse_categorical_accuracy: 0.6885\n",
            "Epoch 3/6\n",
            "295/295 [==============================] - 146s 496ms/step - loss: 0.4699 - sparse_categorical_accuracy: 0.8246 - val_loss: 0.8760 - val_sparse_categorical_accuracy: 0.6952\n",
            "Epoch 4/6\n",
            "295/295 [==============================] - 146s 495ms/step - loss: 0.3259 - sparse_categorical_accuracy: 0.8804 - val_loss: 0.9479 - val_sparse_categorical_accuracy: 0.7029\n",
            "Epoch 5/6\n",
            "295/295 [==============================] - 146s 495ms/step - loss: 0.2186 - sparse_categorical_accuracy: 0.9227 - val_loss: 1.0261 - val_sparse_categorical_accuracy: 0.6927\n",
            "Epoch 6/6\n",
            "295/295 [==============================] - 146s 495ms/step - loss: 0.1483 - sparse_categorical_accuracy: 0.9482 - val_loss: 1.2992 - val_sparse_categorical_accuracy: 0.6893\n"
          ]
        }
      ],
      "source": [
        "size = 16\n",
        "n_epochs = 6\n",
        "history = classifier_model.fit(x_train, \n",
        "                      y_train, \n",
        "                      batch_size = size,\n",
        "                      epochs = n_epochs,\n",
        "                      validation_data = (x_test, y_test))"
      ]
    },
    {
      "cell_type": "markdown",
      "metadata": {
        "id": "l2birywaOZZI"
      },
      "source": [
        "Evaluación de rendimiento\n"
      ]
    },
    {
      "cell_type": "code",
      "execution_count": null,
      "metadata": {
        "colab": {
          "base_uri": "https://localhost:8080/"
        },
        "id": "RRBEP6SZolsQ",
        "outputId": "2bf255dc-c4cb-4674-cc1d-fb5b238cf6d3"
      },
      "outputs": [
        {
          "name": "stdout",
          "output_type": "stream",
          "text": [
            "74/74 [==============================] - 12s 154ms/step\n"
          ]
        }
      ],
      "source": [
        "y_pred = classifier_model.predict(x_test, batch_size=16, verbose=1)\n",
        "y_pred_bool = np.argmax(y_pred, axis=1)"
      ]
    },
    {
      "cell_type": "code",
      "execution_count": null,
      "metadata": {
        "colab": {
          "base_uri": "https://localhost:8080/"
        },
        "id": "KqHTtN_eosiW",
        "outputId": "849fc8f9-6afe-48b2-9f32-cbd3648e830e"
      },
      "outputs": [
        {
          "name": "stdout",
          "output_type": "stream",
          "text": [
            "              precision    recall  f1-score   support\n",
            "\n",
            "     Alegria       0.65      0.61      0.63       262\n",
            "         Ira       0.46      0.47      0.46       124\n",
            "       Otros       0.75      0.77      0.76       636\n",
            "    Tristeza       0.68      0.67      0.68       156\n",
            "\n",
            "    accuracy                           0.69      1178\n",
            "   macro avg       0.63      0.63      0.63      1178\n",
            "weighted avg       0.69      0.69      0.69      1178\n",
            "\n"
          ]
        }
      ],
      "source": [
        "target_names = ['Alegria', 'Ira', 'Otros', 'Tristeza']\n",
        "print(classification_report(LE.inverse_transform(y_test), LE.inverse_transform(y_pred_bool), target_names=target_names))"
      ]
    },
    {
      "cell_type": "markdown",
      "metadata": {
        "id": "jQL4wL2-OjBG"
      },
      "source": [
        "Predicción"
      ]
    },
    {
      "cell_type": "code",
      "execution_count": null,
      "metadata": {
        "colab": {
          "base_uri": "https://localhost:8080/"
        },
        "id": "7zowK1RepDyY",
        "outputId": "14cc4cf2-7ba9-454a-ba42-a3114671a999"
      },
      "outputs": [
        {
          "name": "stdout",
          "output_type": "stream",
          "text": [
            "1/1 [==============================] - 1s 720ms/step\n",
            "[[0.13919657 0.00351136 0.8177002  0.03959198]]\n"
          ]
        }
      ],
      "source": [
        "example = [\"me gusta mucho comer torta\"]\n",
        "y_pred = classifier_model.predict(tf.constant(example))\n",
        "print(y_pred)"
      ]
    }
  ],
  "metadata": {
    "colab": {
      "provenance": [],
      "include_colab_link": true
    },
    "gpuClass": "standard",
    "kernelspec": {
      "display_name": "Python 3",
      "name": "python3"
    },
    "language_info": {
      "name": "python"
    }
  },
  "nbformat": 4,
  "nbformat_minor": 0
}